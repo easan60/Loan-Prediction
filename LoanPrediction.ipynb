{
 "cells": [
  {
   "cell_type": "code",
   "execution_count": 1,
   "metadata": {},
   "outputs": [],
   "source": [
    "import numpy as np\n",
    "import pandas as pd\n",
    "import seaborn as sns\n",
    "import matplotlib.pyplot as plt\n",
    "%matplotlib inline\n",
    "import warnings\n",
    "warnings.filterwarnings(\"ignore\")\n",
    "from sklearn.model_selection import train_test_split\n",
    "pd.set_option(\"display.max_columns\",100)"
   ]
  },
  {
   "cell_type": "code",
   "execution_count": 2,
   "metadata": {},
   "outputs": [],
   "source": [
    "df=pd.read_csv('LoansTrainingSet.csv')"
   ]
  },
  {
   "cell_type": "code",
   "execution_count": 3,
   "metadata": {},
   "outputs": [
    {
     "data": {
      "text/html": [
       "<div>\n",
       "<style scoped>\n",
       "    .dataframe tbody tr th:only-of-type {\n",
       "        vertical-align: middle;\n",
       "    }\n",
       "\n",
       "    .dataframe tbody tr th {\n",
       "        vertical-align: top;\n",
       "    }\n",
       "\n",
       "    .dataframe thead th {\n",
       "        text-align: right;\n",
       "    }\n",
       "</style>\n",
       "<table border=\"1\" class=\"dataframe\">\n",
       "  <thead>\n",
       "    <tr style=\"text-align: right;\">\n",
       "      <th></th>\n",
       "      <th>Loan ID</th>\n",
       "      <th>Customer ID</th>\n",
       "      <th>Loan Status</th>\n",
       "      <th>Current Loan Amount</th>\n",
       "      <th>Term</th>\n",
       "      <th>Credit Score</th>\n",
       "      <th>Years in current job</th>\n",
       "      <th>Home Ownership</th>\n",
       "      <th>Annual Income</th>\n",
       "      <th>Purpose</th>\n",
       "      <th>Monthly Debt</th>\n",
       "      <th>Years of Credit History</th>\n",
       "      <th>Months since last delinquent</th>\n",
       "      <th>Number of Open Accounts</th>\n",
       "      <th>Number of Credit Problems</th>\n",
       "      <th>Current Credit Balance</th>\n",
       "      <th>Maximum Open Credit</th>\n",
       "      <th>Bankruptcies</th>\n",
       "      <th>Tax Liens</th>\n",
       "    </tr>\n",
       "  </thead>\n",
       "  <tbody>\n",
       "    <tr>\n",
       "      <th>56266</th>\n",
       "      <td>37fcd13b-c225-4577-ab75-1ed21e555896</td>\n",
       "      <td>c95e4a3c-5f3f-4586-b153-09515c752400</td>\n",
       "      <td>Fully Paid</td>\n",
       "      <td>8151</td>\n",
       "      <td>Short Term</td>\n",
       "      <td>727.0</td>\n",
       "      <td>3 years</td>\n",
       "      <td>Home Mortgage</td>\n",
       "      <td>46869.0</td>\n",
       "      <td>Debt Consolidation</td>\n",
       "      <td>$621.02</td>\n",
       "      <td>10.0</td>\n",
       "      <td>NaN</td>\n",
       "      <td>15</td>\n",
       "      <td>0</td>\n",
       "      <td>8170</td>\n",
       "      <td>33482</td>\n",
       "      <td>0.0</td>\n",
       "      <td>0.0</td>\n",
       "    </tr>\n",
       "    <tr>\n",
       "      <th>233104</th>\n",
       "      <td>e7f62010-eb63-4091-a9cb-12426fa2e58f</td>\n",
       "      <td>c158e0ee-1ab3-4f72-804f-a1c20b5a3092</td>\n",
       "      <td>Charged Off</td>\n",
       "      <td>6982</td>\n",
       "      <td>Short Term</td>\n",
       "      <td>NaN</td>\n",
       "      <td>4 years</td>\n",
       "      <td>Rent</td>\n",
       "      <td>NaN</td>\n",
       "      <td>Debt Consolidation</td>\n",
       "      <td>$530.79</td>\n",
       "      <td>9.4</td>\n",
       "      <td>NaN</td>\n",
       "      <td>5</td>\n",
       "      <td>0</td>\n",
       "      <td>20308</td>\n",
       "      <td>21445</td>\n",
       "      <td>0.0</td>\n",
       "      <td>0.0</td>\n",
       "    </tr>\n",
       "    <tr>\n",
       "      <th>222182</th>\n",
       "      <td>dd19da76-e445-4b72-b0bd-738bb6e41c85</td>\n",
       "      <td>289ec10a-8011-4a72-b015-5c3af29460c1</td>\n",
       "      <td>Fully Paid</td>\n",
       "      <td>5876</td>\n",
       "      <td>Short Term</td>\n",
       "      <td>NaN</td>\n",
       "      <td>&lt; 1 year</td>\n",
       "      <td>Rent</td>\n",
       "      <td>NaN</td>\n",
       "      <td>Debt Consolidation</td>\n",
       "      <td>$650.67</td>\n",
       "      <td>8.5</td>\n",
       "      <td>NaN</td>\n",
       "      <td>13</td>\n",
       "      <td>0</td>\n",
       "      <td>6800</td>\n",
       "      <td>39082</td>\n",
       "      <td>0.0</td>\n",
       "      <td>0.0</td>\n",
       "    </tr>\n",
       "    <tr>\n",
       "      <th>205510</th>\n",
       "      <td>cc91e597-0b12-48f8-8574-293a690058f6</td>\n",
       "      <td>501ba0be-a21d-4039-989d-83426e0888ef</td>\n",
       "      <td>Charged Off</td>\n",
       "      <td>6086</td>\n",
       "      <td>Short Term</td>\n",
       "      <td>718.0</td>\n",
       "      <td>5 years</td>\n",
       "      <td>Rent</td>\n",
       "      <td>55792.0</td>\n",
       "      <td>Debt Consolidation</td>\n",
       "      <td>$729.94</td>\n",
       "      <td>23.3</td>\n",
       "      <td>NaN</td>\n",
       "      <td>22</td>\n",
       "      <td>0</td>\n",
       "      <td>20869</td>\n",
       "      <td>115300</td>\n",
       "      <td>0.0</td>\n",
       "      <td>0.0</td>\n",
       "    </tr>\n",
       "    <tr>\n",
       "      <th>137853</th>\n",
       "      <td>8935c912-31c6-4d4d-abac-85cd244c697e</td>\n",
       "      <td>729d784f-f10d-484a-aee6-ac12ce0d7fe3</td>\n",
       "      <td>Fully Paid</td>\n",
       "      <td>3065</td>\n",
       "      <td>Short Term</td>\n",
       "      <td>666.0</td>\n",
       "      <td>10+ years</td>\n",
       "      <td>Own Home</td>\n",
       "      <td>35756.0</td>\n",
       "      <td>Debt Consolidation</td>\n",
       "      <td>$306.91</td>\n",
       "      <td>14.4</td>\n",
       "      <td>36.0</td>\n",
       "      <td>14</td>\n",
       "      <td>1</td>\n",
       "      <td>3467</td>\n",
       "      <td>31237</td>\n",
       "      <td>1.0</td>\n",
       "      <td>0.0</td>\n",
       "    </tr>\n",
       "  </tbody>\n",
       "</table>\n",
       "</div>"
      ],
      "text/plain": [
       "                                     Loan ID  \\\n",
       "56266   37fcd13b-c225-4577-ab75-1ed21e555896   \n",
       "233104  e7f62010-eb63-4091-a9cb-12426fa2e58f   \n",
       "222182  dd19da76-e445-4b72-b0bd-738bb6e41c85   \n",
       "205510  cc91e597-0b12-48f8-8574-293a690058f6   \n",
       "137853  8935c912-31c6-4d4d-abac-85cd244c697e   \n",
       "\n",
       "                                 Customer ID  Loan Status  \\\n",
       "56266   c95e4a3c-5f3f-4586-b153-09515c752400   Fully Paid   \n",
       "233104  c158e0ee-1ab3-4f72-804f-a1c20b5a3092  Charged Off   \n",
       "222182  289ec10a-8011-4a72-b015-5c3af29460c1   Fully Paid   \n",
       "205510  501ba0be-a21d-4039-989d-83426e0888ef  Charged Off   \n",
       "137853  729d784f-f10d-484a-aee6-ac12ce0d7fe3   Fully Paid   \n",
       "\n",
       "        Current Loan Amount        Term  Credit Score Years in current job  \\\n",
       "56266                  8151  Short Term         727.0              3 years   \n",
       "233104                 6982  Short Term           NaN              4 years   \n",
       "222182                 5876  Short Term           NaN             < 1 year   \n",
       "205510                 6086  Short Term         718.0              5 years   \n",
       "137853                 3065  Short Term         666.0            10+ years   \n",
       "\n",
       "       Home Ownership  Annual Income             Purpose Monthly Debt  \\\n",
       "56266   Home Mortgage        46869.0  Debt Consolidation      $621.02   \n",
       "233104           Rent            NaN  Debt Consolidation      $530.79   \n",
       "222182           Rent            NaN  Debt Consolidation      $650.67   \n",
       "205510           Rent        55792.0  Debt Consolidation      $729.94   \n",
       "137853       Own Home        35756.0  Debt Consolidation      $306.91   \n",
       "\n",
       "        Years of Credit History  Months since last delinquent  \\\n",
       "56266                      10.0                           NaN   \n",
       "233104                      9.4                           NaN   \n",
       "222182                      8.5                           NaN   \n",
       "205510                     23.3                           NaN   \n",
       "137853                     14.4                          36.0   \n",
       "\n",
       "        Number of Open Accounts  Number of Credit Problems  \\\n",
       "56266                        15                          0   \n",
       "233104                        5                          0   \n",
       "222182                       13                          0   \n",
       "205510                       22                          0   \n",
       "137853                       14                          1   \n",
       "\n",
       "        Current Credit Balance Maximum Open Credit  Bankruptcies  Tax Liens  \n",
       "56266                     8170               33482           0.0        0.0  \n",
       "233104                   20308               21445           0.0        0.0  \n",
       "222182                    6800               39082           0.0        0.0  \n",
       "205510                   20869              115300           0.0        0.0  \n",
       "137853                    3467               31237           1.0        0.0  "
      ]
     },
     "execution_count": 3,
     "metadata": {},
     "output_type": "execute_result"
    }
   ],
   "source": [
    "df.sample(5)"
   ]
  },
  {
   "cell_type": "code",
   "execution_count": 4,
   "metadata": {},
   "outputs": [
    {
     "name": "stdout",
     "output_type": "stream",
     "text": [
      "<class 'pandas.core.frame.DataFrame'>\n",
      "RangeIndex: 256984 entries, 0 to 256983\n",
      "Data columns (total 19 columns):\n",
      " #   Column                        Non-Null Count   Dtype  \n",
      "---  ------                        --------------   -----  \n",
      " 0   Loan ID                       256984 non-null  object \n",
      " 1   Customer ID                   256984 non-null  object \n",
      " 2   Loan Status                   256984 non-null  object \n",
      " 3   Current Loan Amount           256984 non-null  int64  \n",
      " 4   Term                          256984 non-null  object \n",
      " 5   Credit Score                  195308 non-null  float64\n",
      " 6   Years in current job          245508 non-null  object \n",
      " 7   Home Ownership                256984 non-null  object \n",
      " 8   Annual Income                 195308 non-null  float64\n",
      " 9   Purpose                       256984 non-null  object \n",
      " 10  Monthly Debt                  256984 non-null  object \n",
      " 11  Years of Credit History       256984 non-null  float64\n",
      " 12  Months since last delinquent  116601 non-null  float64\n",
      " 13  Number of Open Accounts       256984 non-null  int64  \n",
      " 14  Number of Credit Problems     256984 non-null  int64  \n",
      " 15  Current Credit Balance        256984 non-null  int64  \n",
      " 16  Maximum Open Credit           256984 non-null  object \n",
      " 17  Bankruptcies                  256455 non-null  float64\n",
      " 18  Tax Liens                     256961 non-null  float64\n",
      "dtypes: float64(6), int64(4), object(9)\n",
      "memory usage: 37.3+ MB\n"
     ]
    }
   ],
   "source": [
    "df.info()"
   ]
  },
  {
   "cell_type": "code",
   "execution_count": 5,
   "metadata": {},
   "outputs": [
    {
     "data": {
      "text/html": [
       "<div>\n",
       "<style scoped>\n",
       "    .dataframe tbody tr th:only-of-type {\n",
       "        vertical-align: middle;\n",
       "    }\n",
       "\n",
       "    .dataframe tbody tr th {\n",
       "        vertical-align: top;\n",
       "    }\n",
       "\n",
       "    .dataframe thead th {\n",
       "        text-align: right;\n",
       "    }\n",
       "</style>\n",
       "<table border=\"1\" class=\"dataframe\">\n",
       "  <thead>\n",
       "    <tr style=\"text-align: right;\">\n",
       "      <th></th>\n",
       "      <th>Current Loan Amount</th>\n",
       "      <th>Credit Score</th>\n",
       "      <th>Annual Income</th>\n",
       "      <th>Years of Credit History</th>\n",
       "      <th>Months since last delinquent</th>\n",
       "      <th>Number of Open Accounts</th>\n",
       "      <th>Number of Credit Problems</th>\n",
       "      <th>Current Credit Balance</th>\n",
       "      <th>Bankruptcies</th>\n",
       "      <th>Tax Liens</th>\n",
       "    </tr>\n",
       "  </thead>\n",
       "  <tbody>\n",
       "    <tr>\n",
       "      <th>count</th>\n",
       "      <td>2.569840e+05</td>\n",
       "      <td>195308.000000</td>\n",
       "      <td>1.953080e+05</td>\n",
       "      <td>256984.000000</td>\n",
       "      <td>116601.000000</td>\n",
       "      <td>256984.000000</td>\n",
       "      <td>256984.000000</td>\n",
       "      <td>2.569840e+05</td>\n",
       "      <td>256455.000000</td>\n",
       "      <td>256961.000000</td>\n",
       "    </tr>\n",
       "    <tr>\n",
       "      <th>mean</th>\n",
       "      <td>1.371331e+07</td>\n",
       "      <td>1251.116099</td>\n",
       "      <td>7.195272e+04</td>\n",
       "      <td>18.290195</td>\n",
       "      <td>34.881450</td>\n",
       "      <td>11.106267</td>\n",
       "      <td>0.156628</td>\n",
       "      <td>1.540656e+04</td>\n",
       "      <td>0.110316</td>\n",
       "      <td>0.027203</td>\n",
       "    </tr>\n",
       "    <tr>\n",
       "      <th>std</th>\n",
       "      <td>3.438131e+07</td>\n",
       "      <td>1762.016848</td>\n",
       "      <td>5.887757e+04</td>\n",
       "      <td>7.075747</td>\n",
       "      <td>21.854165</td>\n",
       "      <td>4.982982</td>\n",
       "      <td>0.460731</td>\n",
       "      <td>1.966506e+04</td>\n",
       "      <td>0.336229</td>\n",
       "      <td>0.245950</td>\n",
       "    </tr>\n",
       "    <tr>\n",
       "      <th>min</th>\n",
       "      <td>5.050000e+02</td>\n",
       "      <td>585.000000</td>\n",
       "      <td>0.000000e+00</td>\n",
       "      <td>3.400000</td>\n",
       "      <td>0.000000</td>\n",
       "      <td>0.000000</td>\n",
       "      <td>0.000000</td>\n",
       "      <td>0.000000e+00</td>\n",
       "      <td>0.000000</td>\n",
       "      <td>0.000000</td>\n",
       "    </tr>\n",
       "    <tr>\n",
       "      <th>25%</th>\n",
       "      <td>8.299000e+03</td>\n",
       "      <td>714.000000</td>\n",
       "      <td>4.432100e+04</td>\n",
       "      <td>13.500000</td>\n",
       "      <td>16.000000</td>\n",
       "      <td>8.000000</td>\n",
       "      <td>0.000000</td>\n",
       "      <td>5.974000e+03</td>\n",
       "      <td>0.000000</td>\n",
       "      <td>0.000000</td>\n",
       "    </tr>\n",
       "    <tr>\n",
       "      <th>50%</th>\n",
       "      <td>1.429800e+04</td>\n",
       "      <td>733.000000</td>\n",
       "      <td>6.124200e+04</td>\n",
       "      <td>17.000000</td>\n",
       "      <td>32.000000</td>\n",
       "      <td>10.000000</td>\n",
       "      <td>0.000000</td>\n",
       "      <td>1.107800e+04</td>\n",
       "      <td>0.000000</td>\n",
       "      <td>0.000000</td>\n",
       "    </tr>\n",
       "    <tr>\n",
       "      <th>75%</th>\n",
       "      <td>2.436700e+04</td>\n",
       "      <td>744.000000</td>\n",
       "      <td>8.646200e+04</td>\n",
       "      <td>21.700000</td>\n",
       "      <td>51.000000</td>\n",
       "      <td>14.000000</td>\n",
       "      <td>0.000000</td>\n",
       "      <td>1.931900e+04</td>\n",
       "      <td>0.000000</td>\n",
       "      <td>0.000000</td>\n",
       "    </tr>\n",
       "    <tr>\n",
       "      <th>max</th>\n",
       "      <td>1.000000e+08</td>\n",
       "      <td>7510.000000</td>\n",
       "      <td>8.713547e+06</td>\n",
       "      <td>70.500000</td>\n",
       "      <td>176.000000</td>\n",
       "      <td>76.000000</td>\n",
       "      <td>11.000000</td>\n",
       "      <td>1.731412e+06</td>\n",
       "      <td>7.000000</td>\n",
       "      <td>11.000000</td>\n",
       "    </tr>\n",
       "  </tbody>\n",
       "</table>\n",
       "</div>"
      ],
      "text/plain": [
       "       Current Loan Amount   Credit Score  Annual Income  \\\n",
       "count         2.569840e+05  195308.000000   1.953080e+05   \n",
       "mean          1.371331e+07    1251.116099   7.195272e+04   \n",
       "std           3.438131e+07    1762.016848   5.887757e+04   \n",
       "min           5.050000e+02     585.000000   0.000000e+00   \n",
       "25%           8.299000e+03     714.000000   4.432100e+04   \n",
       "50%           1.429800e+04     733.000000   6.124200e+04   \n",
       "75%           2.436700e+04     744.000000   8.646200e+04   \n",
       "max           1.000000e+08    7510.000000   8.713547e+06   \n",
       "\n",
       "       Years of Credit History  Months since last delinquent  \\\n",
       "count            256984.000000                 116601.000000   \n",
       "mean                 18.290195                     34.881450   \n",
       "std                   7.075747                     21.854165   \n",
       "min                   3.400000                      0.000000   \n",
       "25%                  13.500000                     16.000000   \n",
       "50%                  17.000000                     32.000000   \n",
       "75%                  21.700000                     51.000000   \n",
       "max                  70.500000                    176.000000   \n",
       "\n",
       "       Number of Open Accounts  Number of Credit Problems  \\\n",
       "count            256984.000000              256984.000000   \n",
       "mean                 11.106267                   0.156628   \n",
       "std                   4.982982                   0.460731   \n",
       "min                   0.000000                   0.000000   \n",
       "25%                   8.000000                   0.000000   \n",
       "50%                  10.000000                   0.000000   \n",
       "75%                  14.000000                   0.000000   \n",
       "max                  76.000000                  11.000000   \n",
       "\n",
       "       Current Credit Balance   Bankruptcies      Tax Liens  \n",
       "count            2.569840e+05  256455.000000  256961.000000  \n",
       "mean             1.540656e+04       0.110316       0.027203  \n",
       "std              1.966506e+04       0.336229       0.245950  \n",
       "min              0.000000e+00       0.000000       0.000000  \n",
       "25%              5.974000e+03       0.000000       0.000000  \n",
       "50%              1.107800e+04       0.000000       0.000000  \n",
       "75%              1.931900e+04       0.000000       0.000000  \n",
       "max              1.731412e+06       7.000000      11.000000  "
      ]
     },
     "execution_count": 5,
     "metadata": {},
     "output_type": "execute_result"
    }
   ],
   "source": [
    "df.describe()"
   ]
  },
  {
   "cell_type": "code",
   "execution_count": 6,
   "metadata": {},
   "outputs": [
    {
     "data": {
      "text/plain": [
       "<AxesSubplot:>"
      ]
     },
     "execution_count": 6,
     "metadata": {},
     "output_type": "execute_result"
    },
    {
     "data": {
      "image/png": "[encoded data removed]",
      "text/plain": [
       "<Figure size 432x288 with 2 Axes>"
      ]
     },
     "metadata": {
      "needs_background": "light"
     },
     "output_type": "display_data"
    }
   ],
   "source": [
    "sns.heatmap(df.corr(),annot=True)"
   ]
  },
  {
   "cell_type": "code",
   "execution_count": 7,
   "metadata": {},
   "outputs": [
    {
     "data": {
      "text/html": [
       "<div>\n",
       "<style scoped>\n",
       "    .dataframe tbody tr th:only-of-type {\n",
       "        vertical-align: middle;\n",
       "    }\n",
       "\n",
       "    .dataframe tbody tr th {\n",
       "        vertical-align: top;\n",
       "    }\n",
       "\n",
       "    .dataframe thead th {\n",
       "        text-align: right;\n",
       "    }\n",
       "</style>\n",
       "<table border=\"1\" class=\"dataframe\">\n",
       "  <thead>\n",
       "    <tr style=\"text-align: right;\">\n",
       "      <th></th>\n",
       "      <th>Current Loan Amount</th>\n",
       "      <th>Credit Score</th>\n",
       "      <th>Annual Income</th>\n",
       "      <th>Years of Credit History</th>\n",
       "      <th>Months since last delinquent</th>\n",
       "      <th>Number of Open Accounts</th>\n",
       "      <th>Number of Credit Problems</th>\n",
       "      <th>Current Credit Balance</th>\n",
       "      <th>Bankruptcies</th>\n",
       "      <th>Tax Liens</th>\n",
       "    </tr>\n",
       "  </thead>\n",
       "  <tbody>\n",
       "    <tr>\n",
       "      <th>Current Loan Amount</th>\n",
       "      <td>1.000000</td>\n",
       "      <td>-0.139743</td>\n",
       "      <td>0.024069</td>\n",
       "      <td>0.014725</td>\n",
       "      <td>0.003488</td>\n",
       "      <td>-0.003094</td>\n",
       "      <td>-0.000062</td>\n",
       "      <td>0.003138</td>\n",
       "      <td>0.003576</td>\n",
       "      <td>-0.003069</td>\n",
       "    </tr>\n",
       "    <tr>\n",
       "      <th>Credit Score</th>\n",
       "      <td>-0.139743</td>\n",
       "      <td>1.000000</td>\n",
       "      <td>-0.033221</td>\n",
       "      <td>-0.011658</td>\n",
       "      <td>-0.007994</td>\n",
       "      <td>0.008124</td>\n",
       "      <td>0.000777</td>\n",
       "      <td>-0.003263</td>\n",
       "      <td>-0.003426</td>\n",
       "      <td>0.004381</td>\n",
       "    </tr>\n",
       "    <tr>\n",
       "      <th>Annual Income</th>\n",
       "      <td>0.024069</td>\n",
       "      <td>-0.033221</td>\n",
       "      <td>1.000000</td>\n",
       "      <td>0.146859</td>\n",
       "      <td>-0.059675</td>\n",
       "      <td>0.140463</td>\n",
       "      <td>-0.013672</td>\n",
       "      <td>0.292165</td>\n",
       "      <td>-0.044837</td>\n",
       "      <td>0.038185</td>\n",
       "    </tr>\n",
       "    <tr>\n",
       "      <th>Years of Credit History</th>\n",
       "      <td>0.014725</td>\n",
       "      <td>-0.011658</td>\n",
       "      <td>0.146859</td>\n",
       "      <td>1.000000</td>\n",
       "      <td>-0.039695</td>\n",
       "      <td>0.128033</td>\n",
       "      <td>0.061251</td>\n",
       "      <td>0.201001</td>\n",
       "      <td>0.062049</td>\n",
       "      <td>0.020915</td>\n",
       "    </tr>\n",
       "    <tr>\n",
       "      <th>Months since last delinquent</th>\n",
       "      <td>0.003488</td>\n",
       "      <td>-0.007994</td>\n",
       "      <td>-0.059675</td>\n",
       "      <td>-0.039695</td>\n",
       "      <td>1.000000</td>\n",
       "      <td>-0.035803</td>\n",
       "      <td>0.088612</td>\n",
       "      <td>-0.024292</td>\n",
       "      <td>0.112907</td>\n",
       "      <td>0.002730</td>\n",
       "    </tr>\n",
       "    <tr>\n",
       "      <th>Number of Open Accounts</th>\n",
       "      <td>-0.003094</td>\n",
       "      <td>0.008124</td>\n",
       "      <td>0.140463</td>\n",
       "      <td>0.128033</td>\n",
       "      <td>-0.035803</td>\n",
       "      <td>1.000000</td>\n",
       "      <td>-0.013731</td>\n",
       "      <td>0.222763</td>\n",
       "      <td>-0.022805</td>\n",
       "      <td>0.005754</td>\n",
       "    </tr>\n",
       "    <tr>\n",
       "      <th>Number of Credit Problems</th>\n",
       "      <td>-0.000062</td>\n",
       "      <td>0.000777</td>\n",
       "      <td>-0.013672</td>\n",
       "      <td>0.061251</td>\n",
       "      <td>0.088612</td>\n",
       "      <td>-0.013731</td>\n",
       "      <td>1.000000</td>\n",
       "      <td>-0.103814</td>\n",
       "      <td>0.755866</td>\n",
       "      <td>0.584917</td>\n",
       "    </tr>\n",
       "    <tr>\n",
       "      <th>Current Credit Balance</th>\n",
       "      <td>0.003138</td>\n",
       "      <td>-0.003263</td>\n",
       "      <td>0.292165</td>\n",
       "      <td>0.201001</td>\n",
       "      <td>-0.024292</td>\n",
       "      <td>0.222763</td>\n",
       "      <td>-0.103814</td>\n",
       "      <td>1.000000</td>\n",
       "      <td>-0.117995</td>\n",
       "      <td>-0.011118</td>\n",
       "    </tr>\n",
       "    <tr>\n",
       "      <th>Bankruptcies</th>\n",
       "      <td>0.003576</td>\n",
       "      <td>-0.003426</td>\n",
       "      <td>-0.044837</td>\n",
       "      <td>0.062049</td>\n",
       "      <td>0.112907</td>\n",
       "      <td>-0.022805</td>\n",
       "      <td>0.755866</td>\n",
       "      <td>-0.117995</td>\n",
       "      <td>1.000000</td>\n",
       "      <td>0.046160</td>\n",
       "    </tr>\n",
       "    <tr>\n",
       "      <th>Tax Liens</th>\n",
       "      <td>-0.003069</td>\n",
       "      <td>0.004381</td>\n",
       "      <td>0.038185</td>\n",
       "      <td>0.020915</td>\n",
       "      <td>0.002730</td>\n",
       "      <td>0.005754</td>\n",
       "      <td>0.584917</td>\n",
       "      <td>-0.011118</td>\n",
       "      <td>0.046160</td>\n",
       "      <td>1.000000</td>\n",
       "    </tr>\n",
       "  </tbody>\n",
       "</table>\n",
       "</div>"
      ],
      "text/plain": [
       "                              Current Loan Amount  Credit Score  \\\n",
       "Current Loan Amount                      1.000000     -0.139743   \n",
       "Credit Score                            -0.139743      1.000000   \n",
       "Annual Income                            0.024069     -0.033221   \n",
       "Years of Credit History                  0.014725     -0.011658   \n",
       "Months since last delinquent             0.003488     -0.007994   \n",
       "Number of Open Accounts                 -0.003094      0.008124   \n",
       "Number of Credit Problems               -0.000062      0.000777   \n",
       "Current Credit Balance                   0.003138     -0.003263   \n",
       "Bankruptcies                             0.003576     -0.003426   \n",
       "Tax Liens                               -0.003069      0.004381   \n",
       "\n",
       "                              Annual Income  Years of Credit History  \\\n",
       "Current Loan Amount                0.024069                 0.014725   \n",
       "Credit Score                      -0.033221                -0.011658   \n",
       "Annual Income                      1.000000                 0.146859   \n",
       "Years of Credit History            0.146859                 1.000000   \n",
       "Months since last delinquent      -0.059675                -0.039695   \n",
       "Number of Open Accounts            0.140463                 0.128033   \n",
       "Number of Credit Problems         -0.013672                 0.061251   \n",
       "Current Credit Balance             0.292165                 0.201001   \n",
       "Bankruptcies                      -0.044837                 0.062049   \n",
       "Tax Liens                          0.038185                 0.020915   \n",
       "\n",
       "                              Months since last delinquent  \\\n",
       "Current Loan Amount                               0.003488   \n",
       "Credit Score                                     -0.007994   \n",
       "Annual Income                                    -0.059675   \n",
       "Years of Credit History                          -0.039695   \n",
       "Months since last delinquent                      1.000000   \n",
       "Number of Open Accounts                          -0.035803   \n",
       "Number of Credit Problems                         0.088612   \n",
       "Current Credit Balance                           -0.024292   \n",
       "Bankruptcies                                      0.112907   \n",
       "Tax Liens                                         0.002730   \n",
       "\n",
       "                              Number of Open Accounts  \\\n",
       "Current Loan Amount                         -0.003094   \n",
       "Credit Score                                 0.008124   \n",
       "Annual Income                                0.140463   \n",
       "Years of Credit History                      0.128033   \n",
       "Months since last delinquent                -0.035803   \n",
       "Number of Open Accounts                      1.000000   \n",
       "Number of Credit Problems                   -0.013731   \n",
       "Current Credit Balance                       0.222763   \n",
       "Bankruptcies                                -0.022805   \n",
       "Tax Liens                                    0.005754   \n",
       "\n",
       "                              Number of Credit Problems  \\\n",
       "Current Loan Amount                           -0.000062   \n",
       "Credit Score                                   0.000777   \n",
       "Annual Income                                 -0.013672   \n",
       "Years of Credit History                        0.061251   \n",
       "Months since last delinquent                   0.088612   \n",
       "Number of Open Accounts                       -0.013731   \n",
       "Number of Credit Problems                      1.000000   \n",
       "Current Credit Balance                        -0.103814   \n",
       "Bankruptcies                                   0.755866   \n",
       "Tax Liens                                      0.584917   \n",
       "\n",
       "                              Current Credit Balance  Bankruptcies  Tax Liens  \n",
       "Current Loan Amount                         0.003138      0.003576  -0.003069  \n",
       "Credit Score                               -0.003263     -0.003426   0.004381  \n",
       "Annual Income                               0.292165     -0.044837   0.038185  \n",
       "Years of Credit History                     0.201001      0.062049   0.020915  \n",
       "Months since last delinquent               -0.024292      0.112907   0.002730  \n",
       "Number of Open Accounts                     0.222763     -0.022805   0.005754  \n",
       "Number of Credit Problems                  -0.103814      0.755866   0.584917  \n",
       "Current Credit Balance                      1.000000     -0.117995  -0.011118  \n",
       "Bankruptcies                               -0.117995      1.000000   0.046160  \n",
       "Tax Liens                                  -0.011118      0.046160   1.000000  "
      ]
     },
     "execution_count": 7,
     "metadata": {},
     "output_type": "execute_result"
    }
   ],
   "source": [
    "df.corr()"
   ]
  },
  {
   "cell_type": "code",
   "execution_count": 8,
   "metadata": {},
   "outputs": [],
   "source": [
    "# Credit Score ortalama değer ile dolduruldu\n",
    "df['Credit Score'].fillna(df['Credit Score'].mean(),inplace=True)"
   ]
  },
  {
   "cell_type": "code",
   "execution_count": 9,
   "metadata": {},
   "outputs": [
    {
     "data": {
      "image/png": "[encoded data removed]",
      "text/plain": [
       "<Figure size 432x288 with 1 Axes>"
      ]
     },
     "metadata": {
      "needs_background": "light"
     },
     "output_type": "display_data"
    }
   ],
   "source": [
    "sns.distplot(df['Credit Score']);"
   ]
  },
  {
   "cell_type": "code",
   "execution_count": 10,
   "metadata": {},
   "outputs": [
    {
     "data": {
      "text/plain": [
       "<AxesSubplot:xlabel='Credit Score', ylabel='Density'>"
      ]
     },
     "execution_count": 10,
     "metadata": {},
     "output_type": "execute_result"
    },
    {
     "data": {
      "image/png": "[encoded data removed]",
      "text/plain": [
       "<Figure size 432x288 with 1 Axes>"
      ]
     },
     "metadata": {
      "needs_background": "light"
     },
     "output_type": "display_data"
    }
   ],
   "source": [
    "df=df[df['Credit Score']<2000]\n",
    "sns.distplot(df['Credit Score'])"
   ]
  },
  {
   "cell_type": "code",
   "execution_count": 11,
   "metadata": {},
   "outputs": [],
   "source": [
    "#Annual Income ortalama değer ile dolduruldu\n",
    "df['Annual Income'].fillna(df['Annual Income'].mean(),inplace=True)"
   ]
  },
  {
   "cell_type": "code",
   "execution_count": 12,
   "metadata": {},
   "outputs": [
    {
     "data": {
      "image/png": "[encoded data removed]",
      "text/plain": [
       "<Figure size 432x288 with 1 Axes>"
      ]
     },
     "metadata": {
      "needs_background": "light"
     },
     "output_type": "display_data"
    }
   ],
   "source": [
    "sns.distplot(df['Annual Income']);"
   ]
  },
  {
   "cell_type": "code",
   "execution_count": 13,
   "metadata": {},
   "outputs": [],
   "source": [
    "#Months since last delinquent değerlerinde boş yerler 0 değeri ile dolduruldu\n",
    "df['Months since last delinquent'].fillna(\"0\",inplace=True)\n",
    "#Months since last delinquent değerleri tam sayı olacağından float dan int değerlere dönüştürüldü\n",
    "df['Months since last delinquent']=df['Months since last delinquent'].astype(int)"
   ]
  },
  {
   "cell_type": "code",
   "execution_count": 14,
   "metadata": {},
   "outputs": [
    {
     "data": {
      "text/plain": [
       "<AxesSubplot:xlabel='Months since last delinquent', ylabel='Count'>"
      ]
     },
     "execution_count": 14,
     "metadata": {},
     "output_type": "execute_result"
    },
    {
     "data": {
      "image/png": "[encoded data removed]",
      "text/plain": [
       "<Figure size 432x288 with 1 Axes>"
      ]
     },
     "metadata": {
      "needs_background": "light"
     },
     "output_type": "display_data"
    }
   ],
   "source": [
    "sns.histplot(df['Months since last delinquent'])"
   ]
  },
  {
   "cell_type": "code",
   "execution_count": 15,
   "metadata": {},
   "outputs": [
    {
     "data": {
      "text/plain": [
       "<AxesSubplot:xlabel='Months since last delinquent', ylabel='Count'>"
      ]
     },
     "execution_count": 15,
     "metadata": {},
     "output_type": "execute_result"
    },
    {
     "data": {
      "image/png": "[encoded data removed]",
      "text/plain": [
       "<Figure size 432x288 with 1 Axes>"
      ]
     },
     "metadata": {
      "needs_background": "light"
     },
     "output_type": "display_data"
    }
   ],
   "source": [
    "df=df[df['Months since last delinquent']<90]\n",
    "sns.histplot(df['Months since last delinquent'])"
   ]
  },
  {
   "cell_type": "code",
   "execution_count": 16,
   "metadata": {},
   "outputs": [],
   "source": [
    "#Years in current job de bulunan years ve noktalama işaretleri kaldırıldı\n",
    "df['Years in current job'].replace('[^0-9]',\"\",inplace=True,regex=True)\n",
    "#ve null olan alanlara 0 değeri atandı\n",
    "df['Years in current job'].fillna('0',inplace=True)\n",
    "#Years in current job int değerine çevrildi\n",
    "df['Years in current job']=df['Years in current job'].astype(int)\n",
    "#Daha önce 0 atanan değerlere ortalama bir değer atanarak gerçeklik sağlandı\n",
    "#Years in current job int değerine çevrildi\n",
    "df['Years in current job']=df['Years in current job'].astype(int)\n",
    "#Daha önce 0 atanan değerlere ortalama bir değer atanarak gerçeklik sağlandı\n",
    "df['Years in current job'].replace('0',df['Years in current job'].mean(),inplace=True)"
   ]
  },
  {
   "cell_type": "code",
   "execution_count": 17,
   "metadata": {},
   "outputs": [
    {
     "data": {
      "text/plain": [
       "<AxesSubplot:xlabel='Years in current job', ylabel='Count'>"
      ]
     },
     "execution_count": 17,
     "metadata": {},
     "output_type": "execute_result"
    },
    {
     "data": {
      "image/png": "[encoded data removed]",
      "text/plain": [
       "<Figure size 432x288 with 1 Axes>"
      ]
     },
     "metadata": {
      "needs_background": "light"
     },
     "output_type": "display_data"
    }
   ],
   "source": [
    "sns.histplot(df['Years in current job'])"
   ]
  },
  {
   "cell_type": "code",
   "execution_count": 18,
   "metadata": {},
   "outputs": [],
   "source": [
    "#Maximum Open Credit object halinde bu değerleri float türüne çevrildi\n",
    "df['Maximum Open Credit'].replace('[a-zA-Z@_!#$%^&*()<>?/\\|}{~:]',\"0\",inplace=True,regex=True)\n",
    "df['Maximum Open Credit']=df['Maximum Open Credit'].astype(float)"
   ]
  },
  {
   "cell_type": "code",
   "execution_count": 19,
   "metadata": {},
   "outputs": [],
   "source": [
    "#sns.histplot(df['Maximum Open Credit'])"
   ]
  },
  {
   "cell_type": "code",
   "execution_count": 20,
   "metadata": {},
   "outputs": [],
   "source": [
    "#Bankruptcies null olanlar 0 ile değiştirildi\n",
    "df['Bankruptcies'].fillna(\"0\",inplace=True)\n",
    "#Bankruptcies object türünden int türüne çevrildi\n",
    "df['Bankruptcies']=df['Bankruptcies'].astype(int)"
   ]
  },
  {
   "cell_type": "code",
   "execution_count": 21,
   "metadata": {},
   "outputs": [
    {
     "data": {
      "text/plain": [
       "<AxesSubplot:xlabel='Bankruptcies', ylabel='Count'>"
      ]
     },
     "execution_count": 21,
     "metadata": {},
     "output_type": "execute_result"
    },
    {
     "data": {
      "image/png": "[encoded data removed]",
      "text/plain": [
       "<Figure size 432x288 with 1 Axes>"
      ]
     },
     "metadata": {
      "needs_background": "light"
     },
     "output_type": "display_data"
    }
   ],
   "source": [
    "sns.histplot(df['Bankruptcies'])"
   ]
  },
  {
   "cell_type": "code",
   "execution_count": 22,
   "metadata": {},
   "outputs": [
    {
     "data": {
      "text/plain": [
       "<AxesSubplot:xlabel='Bankruptcies', ylabel='Count'>"
      ]
     },
     "execution_count": 22,
     "metadata": {},
     "output_type": "execute_result"
    },
    {
     "data": {
      "image/png": "[encoded data removed]",
      "text/plain": [
       "<Figure size 432x288 with 1 Axes>"
      ]
     },
     "metadata": {
      "needs_background": "light"
     },
     "output_type": "display_data"
    }
   ],
   "source": [
    "df=df[df['Bankruptcies']<3]\n",
    "sns.histplot(df['Bankruptcies'])"
   ]
  },
  {
   "cell_type": "code",
   "execution_count": 23,
   "metadata": {},
   "outputs": [],
   "source": [
    "#Tax Liens null olanlar 0 ile değiştirildi\n",
    "df['Tax Liens'].fillna(\"0\",inplace=True)\n",
    "#Tax Liens daha sora object türünden int türüne dönüştürüldü\n",
    "df['Tax Liens']=df['Tax Liens'].astype(int)"
   ]
  },
  {
   "cell_type": "code",
   "execution_count": 24,
   "metadata": {},
   "outputs": [
    {
     "data": {
      "text/plain": [
       "<AxesSubplot:xlabel='Tax Liens', ylabel='Count'>"
      ]
     },
     "execution_count": 24,
     "metadata": {},
     "output_type": "execute_result"
    },
    {
     "data": {
      "image/png": "[encoded data removed]",
      "text/plain": [
       "<Figure size 432x288 with 1 Axes>"
      ]
     },
     "metadata": {
      "needs_background": "light"
     },
     "output_type": "display_data"
    }
   ],
   "source": [
    "sns.histplot(df['Tax Liens'])"
   ]
  },
  {
   "cell_type": "code",
   "execution_count": 25,
   "metadata": {},
   "outputs": [
    {
     "data": {
      "text/plain": [
       "<AxesSubplot:xlabel='Tax Liens', ylabel='Count'>"
      ]
     },
     "execution_count": 25,
     "metadata": {},
     "output_type": "execute_result"
    },
    {
     "data": {
      "image/png": "[encoded data removed]",
      "text/plain": [
       "<Figure size 432x288 with 1 Axes>"
      ]
     },
     "metadata": {
      "needs_background": "light"
     },
     "output_type": "display_data"
    }
   ],
   "source": [
    "df=df[df['Tax Liens']<3]\n",
    "sns.histplot(df['Tax Liens'])"
   ]
  },
  {
   "cell_type": "code",
   "execution_count": 26,
   "metadata": {},
   "outputs": [],
   "source": [
    "#Monthly Debt object türünden fazla olan semboller kaldırılarak float türüne çevrildi\n",
    "df['Monthly Debt'].replace('[^0-9.]','',inplace=True,regex=True)\n",
    "df['Monthly Debt']=df['Monthly Debt'].astype(float)"
   ]
  },
  {
   "cell_type": "code",
   "execution_count": 27,
   "metadata": {},
   "outputs": [
    {
     "data": {
      "text/plain": [
       "<AxesSubplot:xlabel='Monthly Debt', ylabel='Count'>"
      ]
     },
     "execution_count": 27,
     "metadata": {},
     "output_type": "execute_result"
    },
    {
     "data": {
      "image/png": "[encoded data removed]",
      "text/plain": [
       "<Figure size 432x288 with 1 Axes>"
      ]
     },
     "metadata": {
      "needs_background": "light"
     },
     "output_type": "display_data"
    }
   ],
   "source": [
    "sns.histplot(df['Monthly Debt'])"
   ]
  },
  {
   "cell_type": "code",
   "execution_count": 28,
   "metadata": {},
   "outputs": [
    {
     "data": {
      "text/plain": [
       "<AxesSubplot:xlabel='Monthly Debt', ylabel='Count'>"
      ]
     },
     "execution_count": 28,
     "metadata": {},
     "output_type": "execute_result"
    },
    {
     "data": {
      "image/png": "[encoded data removed]",
      "text/plain": [
       "<Figure size 432x288 with 1 Axes>"
      ]
     },
     "metadata": {
      "needs_background": "light"
     },
     "output_type": "display_data"
    }
   ],
   "source": [
    "df=df[df['Monthly Debt']<5000]\n",
    "sns.histplot(df['Monthly Debt'])"
   ]
  },
  {
   "cell_type": "code",
   "execution_count": 29,
   "metadata": {},
   "outputs": [
    {
     "data": {
      "text/plain": [
       "Loan ID                         0\n",
       "Customer ID                     0\n",
       "Loan Status                     0\n",
       "Current Loan Amount             0\n",
       "Term                            0\n",
       "Credit Score                    0\n",
       "Years in current job            0\n",
       "Home Ownership                  0\n",
       "Annual Income                   0\n",
       "Purpose                         0\n",
       "Monthly Debt                    0\n",
       "Years of Credit History         0\n",
       "Months since last delinquent    0\n",
       "Number of Open Accounts         0\n",
       "Number of Credit Problems       0\n",
       "Current Credit Balance          0\n",
       "Maximum Open Credit             0\n",
       "Bankruptcies                    0\n",
       "Tax Liens                       0\n",
       "dtype: int64"
      ]
     },
     "execution_count": 29,
     "metadata": {},
     "output_type": "execute_result"
    }
   ],
   "source": [
    "df.isnull().sum() #Şuan boş satırımız kalmadı"
   ]
  },
  {
   "cell_type": "code",
   "execution_count": 30,
   "metadata": {},
   "outputs": [
    {
     "data": {
      "text/html": [
       "<div>\n",
       "<style scoped>\n",
       "    .dataframe tbody tr th:only-of-type {\n",
       "        vertical-align: middle;\n",
       "    }\n",
       "\n",
       "    .dataframe tbody tr th {\n",
       "        vertical-align: top;\n",
       "    }\n",
       "\n",
       "    .dataframe thead th {\n",
       "        text-align: right;\n",
       "    }\n",
       "</style>\n",
       "<table border=\"1\" class=\"dataframe\">\n",
       "  <thead>\n",
       "    <tr style=\"text-align: right;\">\n",
       "      <th></th>\n",
       "      <th>Loan ID</th>\n",
       "      <th>Customer ID</th>\n",
       "      <th>Loan Status</th>\n",
       "      <th>Term</th>\n",
       "      <th>Home Ownership</th>\n",
       "      <th>Purpose</th>\n",
       "    </tr>\n",
       "  </thead>\n",
       "  <tbody>\n",
       "    <tr>\n",
       "      <th>0</th>\n",
       "      <td>000025bb-5694-4cff-b17d-192b1a98ba44</td>\n",
       "      <td>5ebc8bb1-5eb9-4404-b11b-a6eebc401a19</td>\n",
       "      <td>Fully Paid</td>\n",
       "      <td>Short Term</td>\n",
       "      <td>Home Mortgage</td>\n",
       "      <td>Debt Consolidation</td>\n",
       "    </tr>\n",
       "    <tr>\n",
       "      <th>1</th>\n",
       "      <td>00002c49-3a29-4bd4-8f67-c8f8fbc1048c</td>\n",
       "      <td>927b388d-2e01-423f-a8dc-f7e42d668f46</td>\n",
       "      <td>Fully Paid</td>\n",
       "      <td>Short Term</td>\n",
       "      <td>Home Mortgage</td>\n",
       "      <td>other</td>\n",
       "    </tr>\n",
       "    <tr>\n",
       "      <th>2</th>\n",
       "      <td>00002d89-27f3-409b-aa76-90834f359a65</td>\n",
       "      <td>defce609-c631-447d-aad6-1270615e89c4</td>\n",
       "      <td>Fully Paid</td>\n",
       "      <td>Short Term</td>\n",
       "      <td>Home Mortgage</td>\n",
       "      <td>Debt Consolidation</td>\n",
       "    </tr>\n",
       "    <tr>\n",
       "      <th>3</th>\n",
       "      <td>00005222-b4d8-45a4-ad8c-186057e24233</td>\n",
       "      <td>070bcecb-aae7-4485-a26a-e0403e7bb6c5</td>\n",
       "      <td>Fully Paid</td>\n",
       "      <td>Short Term</td>\n",
       "      <td>Own Home</td>\n",
       "      <td>Debt Consolidation</td>\n",
       "    </tr>\n",
       "    <tr>\n",
       "      <th>4</th>\n",
       "      <td>0000757f-a121-41ed-b17b-162e76647c1f</td>\n",
       "      <td>dde79588-12f0-4811-bab0-e2b07f633fcd</td>\n",
       "      <td>Fully Paid</td>\n",
       "      <td>Short Term</td>\n",
       "      <td>Rent</td>\n",
       "      <td>Debt Consolidation</td>\n",
       "    </tr>\n",
       "    <tr>\n",
       "      <th>...</th>\n",
       "      <td>...</td>\n",
       "      <td>...</td>\n",
       "      <td>...</td>\n",
       "      <td>...</td>\n",
       "      <td>...</td>\n",
       "      <td>...</td>\n",
       "    </tr>\n",
       "    <tr>\n",
       "      <th>256978</th>\n",
       "      <td>fffe84cf-67a1-468d-ab7b-cf06a9c4ee14</td>\n",
       "      <td>460c6cf5-4d12-4e3c-a3d0-46dd67c78cce</td>\n",
       "      <td>Charged Off</td>\n",
       "      <td>Short Term</td>\n",
       "      <td>Home Mortgage</td>\n",
       "      <td>Debt Consolidation</td>\n",
       "    </tr>\n",
       "    <tr>\n",
       "      <th>256979</th>\n",
       "      <td>fffef5b7-be99-4666-ac70-2a397d2ee435</td>\n",
       "      <td>7211a8e3-cba4-4132-b939-222eed8a662c</td>\n",
       "      <td>Fully Paid</td>\n",
       "      <td>Short Term</td>\n",
       "      <td>Rent</td>\n",
       "      <td>Debt Consolidation</td>\n",
       "    </tr>\n",
       "    <tr>\n",
       "      <th>256980</th>\n",
       "      <td>ffffca93-aa8c-4123-b8ff-7852f6df889a</td>\n",
       "      <td>616fef0c-8f09-4327-9b5c-48fcfaa52934</td>\n",
       "      <td>Fully Paid</td>\n",
       "      <td>Short Term</td>\n",
       "      <td>Own Home</td>\n",
       "      <td>Debt Consolidation</td>\n",
       "    </tr>\n",
       "    <tr>\n",
       "      <th>256982</th>\n",
       "      <td>ffffcb2e-e48e-4d2c-a0d6-ed6bce5bfdbe</td>\n",
       "      <td>971a6682-183b-4a52-8bce-1d3429ade295</td>\n",
       "      <td>Charged Off</td>\n",
       "      <td>Short Term</td>\n",
       "      <td>Home Mortgage</td>\n",
       "      <td>Debt Consolidation</td>\n",
       "    </tr>\n",
       "    <tr>\n",
       "      <th>256983</th>\n",
       "      <td>ffffe32e-ed17-459f-9cfd-7b9ee7972933</td>\n",
       "      <td>97281336-1e45-41d2-acb2-263ce56a590e</td>\n",
       "      <td>Fully Paid</td>\n",
       "      <td>Long Term</td>\n",
       "      <td>Home Mortgage</td>\n",
       "      <td>Debt Consolidation</td>\n",
       "    </tr>\n",
       "  </tbody>\n",
       "</table>\n",
       "<p>239817 rows × 6 columns</p>\n",
       "</div>"
      ],
      "text/plain": [
       "                                     Loan ID  \\\n",
       "0       000025bb-5694-4cff-b17d-192b1a98ba44   \n",
       "1       00002c49-3a29-4bd4-8f67-c8f8fbc1048c   \n",
       "2       00002d89-27f3-409b-aa76-90834f359a65   \n",
       "3       00005222-b4d8-45a4-ad8c-186057e24233   \n",
       "4       0000757f-a121-41ed-b17b-162e76647c1f   \n",
       "...                                      ...   \n",
       "256978  fffe84cf-67a1-468d-ab7b-cf06a9c4ee14   \n",
       "256979  fffef5b7-be99-4666-ac70-2a397d2ee435   \n",
       "256980  ffffca93-aa8c-4123-b8ff-7852f6df889a   \n",
       "256982  ffffcb2e-e48e-4d2c-a0d6-ed6bce5bfdbe   \n",
       "256983  ffffe32e-ed17-459f-9cfd-7b9ee7972933   \n",
       "\n",
       "                                 Customer ID  Loan Status        Term  \\\n",
       "0       5ebc8bb1-5eb9-4404-b11b-a6eebc401a19   Fully Paid  Short Term   \n",
       "1       927b388d-2e01-423f-a8dc-f7e42d668f46   Fully Paid  Short Term   \n",
       "2       defce609-c631-447d-aad6-1270615e89c4   Fully Paid  Short Term   \n",
       "3       070bcecb-aae7-4485-a26a-e0403e7bb6c5   Fully Paid  Short Term   \n",
       "4       dde79588-12f0-4811-bab0-e2b07f633fcd   Fully Paid  Short Term   \n",
       "...                                      ...          ...         ...   \n",
       "256978  460c6cf5-4d12-4e3c-a3d0-46dd67c78cce  Charged Off  Short Term   \n",
       "256979  7211a8e3-cba4-4132-b939-222eed8a662c   Fully Paid  Short Term   \n",
       "256980  616fef0c-8f09-4327-9b5c-48fcfaa52934   Fully Paid  Short Term   \n",
       "256982  971a6682-183b-4a52-8bce-1d3429ade295  Charged Off  Short Term   \n",
       "256983  97281336-1e45-41d2-acb2-263ce56a590e   Fully Paid   Long Term   \n",
       "\n",
       "       Home Ownership             Purpose  \n",
       "0       Home Mortgage  Debt Consolidation  \n",
       "1       Home Mortgage               other  \n",
       "2       Home Mortgage  Debt Consolidation  \n",
       "3            Own Home  Debt Consolidation  \n",
       "4                Rent  Debt Consolidation  \n",
       "...               ...                 ...  \n",
       "256978  Home Mortgage  Debt Consolidation  \n",
       "256979           Rent  Debt Consolidation  \n",
       "256980       Own Home  Debt Consolidation  \n",
       "256982  Home Mortgage  Debt Consolidation  \n",
       "256983  Home Mortgage  Debt Consolidation  \n",
       "\n",
       "[239817 rows x 6 columns]"
      ]
     },
     "execution_count": 30,
     "metadata": {},
     "output_type": "execute_result"
    }
   ],
   "source": [
    "df.select_dtypes(\"object_\")"
   ]
  },
  {
   "cell_type": "code",
   "execution_count": 31,
   "metadata": {},
   "outputs": [
    {
     "data": {
      "text/plain": [
       "Fully Paid     175516\n",
       "Charged Off     64301\n",
       "Name: Loan Status, dtype: int64"
      ]
     },
     "execution_count": 31,
     "metadata": {},
     "output_type": "execute_result"
    }
   ],
   "source": [
    "df['Loan Status'].value_counts()"
   ]
  },
  {
   "cell_type": "code",
   "execution_count": 32,
   "metadata": {},
   "outputs": [
    {
     "data": {
      "text/plain": [
       "<AxesSubplot:xlabel='Loan Status', ylabel='count'>"
      ]
     },
     "execution_count": 32,
     "metadata": {},
     "output_type": "execute_result"
    },
    {
     "data": {
      "image/png": "[encoded data removed]",
      "text/plain": [
       "<Figure size 432x288 with 1 Axes>"
      ]
     },
     "metadata": {
      "needs_background": "light"
     },
     "output_type": "display_data"
    }
   ],
   "source": [
    "sns.countplot(df['Loan Status'],hue=df['Term'])"
   ]
  },
  {
   "cell_type": "code",
   "execution_count": 33,
   "metadata": {},
   "outputs": [
    {
     "data": {
      "text/plain": [
       "Short Term    181522\n",
       "Long Term      58295\n",
       "Name: Term, dtype: int64"
      ]
     },
     "execution_count": 33,
     "metadata": {},
     "output_type": "execute_result"
    }
   ],
   "source": [
    "df['Term'].value_counts()"
   ]
  },
  {
   "cell_type": "code",
   "execution_count": 34,
   "metadata": {},
   "outputs": [
    {
     "data": {
      "text/plain": [
       "<AxesSubplot:xlabel='Term', ylabel='count'>"
      ]
     },
     "execution_count": 34,
     "metadata": {},
     "output_type": "execute_result"
    },
    {
     "data": {
      "image/png": "[encoded data removed]",
      "text/plain": [
       "<Figure size 432x288 with 1 Axes>"
      ]
     },
     "metadata": {
      "needs_background": "light"
     },
     "output_type": "display_data"
    }
   ],
   "source": [
    "sns.countplot(df['Term'])"
   ]
  },
  {
   "cell_type": "code",
   "execution_count": 35,
   "metadata": {},
   "outputs": [
    {
     "data": {
      "text/plain": [
       "Home Mortgage    116914\n",
       "Rent             101032\n",
       "Own Home          21332\n",
       "HaveMortgage        539\n",
       "Name: Home Ownership, dtype: int64"
      ]
     },
     "execution_count": 35,
     "metadata": {},
     "output_type": "execute_result"
    }
   ],
   "source": [
    "df['Home Ownership'].value_counts() "
   ]
  },
  {
   "cell_type": "code",
   "execution_count": 36,
   "metadata": {},
   "outputs": [],
   "source": [
    "#Home Ownership verilerini düzenlememiz gerekmekte\n",
    "df['Home Ownership'].replace(['HaveMortgage','Home Mortgage'],'Mortgage',inplace=True)"
   ]
  },
  {
   "cell_type": "code",
   "execution_count": 37,
   "metadata": {},
   "outputs": [
    {
     "data": {
      "text/plain": [
       "Mortgage    117453\n",
       "Rent        101032\n",
       "Own Home     21332\n",
       "Name: Home Ownership, dtype: int64"
      ]
     },
     "execution_count": 37,
     "metadata": {},
     "output_type": "execute_result"
    }
   ],
   "source": [
    "df['Home Ownership'].value_counts()"
   ]
  },
  {
   "cell_type": "code",
   "execution_count": 38,
   "metadata": {},
   "outputs": [
    {
     "data": {
      "text/plain": [
       "<AxesSubplot:xlabel='Home Ownership', ylabel='count'>"
      ]
     },
     "execution_count": 38,
     "metadata": {},
     "output_type": "execute_result"
    },
    {
     "data": {
      "image/png": "[encoded data removed]",
      "text/plain": [
       "<Figure size 432x288 with 1 Axes>"
      ]
     },
     "metadata": {
      "needs_background": "light"
     },
     "output_type": "display_data"
    }
   ],
   "source": [
    "sns.countplot(df['Home Ownership'])"
   ]
  },
  {
   "cell_type": "code",
   "execution_count": 39,
   "metadata": {},
   "outputs": [
    {
     "data": {
      "text/plain": [
       "Debt Consolidation      190288\n",
       "Home Improvements        14012\n",
       "other                    13238\n",
       "Other                     9104\n",
       "Business Loan             4241\n",
       "Buy a Car                 3126\n",
       "Medical Bills             2654\n",
       "Take a Trip               1474\n",
       "Buy House                 1427\n",
       "Educational Expenses       253\n",
       "Name: Purpose, dtype: int64"
      ]
     },
     "execution_count": 39,
     "metadata": {},
     "output_type": "execute_result"
    }
   ],
   "source": [
    "df['Purpose'].value_counts()"
   ]
  },
  {
   "cell_type": "code",
   "execution_count": 40,
   "metadata": {},
   "outputs": [],
   "source": [
    "#Purpose alanlarını düzenleyelim\n",
    "df['Purpose'].replace('other','Other',inplace=True)"
   ]
  },
  {
   "cell_type": "code",
   "execution_count": 41,
   "metadata": {},
   "outputs": [
    {
     "data": {
      "text/plain": [
       "Debt Consolidation      190288\n",
       "Other                    22342\n",
       "Home Improvements        14012\n",
       "Business Loan             4241\n",
       "Buy a Car                 3126\n",
       "Medical Bills             2654\n",
       "Take a Trip               1474\n",
       "Buy House                 1427\n",
       "Educational Expenses       253\n",
       "Name: Purpose, dtype: int64"
      ]
     },
     "execution_count": 41,
     "metadata": {},
     "output_type": "execute_result"
    }
   ],
   "source": [
    "df['Purpose'].value_counts()"
   ]
  },
  {
   "cell_type": "code",
   "execution_count": 42,
   "metadata": {},
   "outputs": [
    {
     "data": {
      "image/png": "[encoded data removed]",
      "text/plain": [
       "<Figure size 432x288 with 1 Axes>"
      ]
     },
     "metadata": {
      "needs_background": "light"
     },
     "output_type": "display_data"
    }
   ],
   "source": [
    "sns.histplot(df['Purpose']);\n",
    "plt.xticks(rotation=90);"
   ]
  },
  {
   "cell_type": "code",
   "execution_count": 43,
   "metadata": {},
   "outputs": [],
   "source": [
    "df=df.drop(['Loan ID','Customer ID'],axis=1)"
   ]
  },
  {
   "cell_type": "code",
   "execution_count": 44,
   "metadata": {},
   "outputs": [
    {
     "data": {
      "text/html": [
       "<div>\n",
       "<style scoped>\n",
       "    .dataframe tbody tr th:only-of-type {\n",
       "        vertical-align: middle;\n",
       "    }\n",
       "\n",
       "    .dataframe tbody tr th {\n",
       "        vertical-align: top;\n",
       "    }\n",
       "\n",
       "    .dataframe thead th {\n",
       "        text-align: right;\n",
       "    }\n",
       "</style>\n",
       "<table border=\"1\" class=\"dataframe\">\n",
       "  <thead>\n",
       "    <tr style=\"text-align: right;\">\n",
       "      <th></th>\n",
       "      <th>Loan Status</th>\n",
       "      <th>Current Loan Amount</th>\n",
       "      <th>Term</th>\n",
       "      <th>Credit Score</th>\n",
       "      <th>Years in current job</th>\n",
       "      <th>Home Ownership</th>\n",
       "      <th>Annual Income</th>\n",
       "      <th>Purpose</th>\n",
       "      <th>Monthly Debt</th>\n",
       "      <th>Years of Credit History</th>\n",
       "      <th>Months since last delinquent</th>\n",
       "      <th>Number of Open Accounts</th>\n",
       "      <th>Number of Credit Problems</th>\n",
       "      <th>Current Credit Balance</th>\n",
       "      <th>Maximum Open Credit</th>\n",
       "      <th>Bankruptcies</th>\n",
       "      <th>Tax Liens</th>\n",
       "    </tr>\n",
       "  </thead>\n",
       "  <tbody>\n",
       "    <tr>\n",
       "      <th>40178</th>\n",
       "      <td>Charged Off</td>\n",
       "      <td>4763</td>\n",
       "      <td>Short Term</td>\n",
       "      <td>746.000000</td>\n",
       "      <td>1</td>\n",
       "      <td>Mortgage</td>\n",
       "      <td>30081.000000</td>\n",
       "      <td>Buy House</td>\n",
       "      <td>313.34</td>\n",
       "      <td>14.0</td>\n",
       "      <td>0</td>\n",
       "      <td>8</td>\n",
       "      <td>0</td>\n",
       "      <td>6086</td>\n",
       "      <td>20087.0</td>\n",
       "      <td>0</td>\n",
       "      <td>0</td>\n",
       "    </tr>\n",
       "    <tr>\n",
       "      <th>128062</th>\n",
       "      <td>Fully Paid</td>\n",
       "      <td>15328</td>\n",
       "      <td>Short Term</td>\n",
       "      <td>741.000000</td>\n",
       "      <td>3</td>\n",
       "      <td>Mortgage</td>\n",
       "      <td>99530.000000</td>\n",
       "      <td>Debt Consolidation</td>\n",
       "      <td>2355.55</td>\n",
       "      <td>23.4</td>\n",
       "      <td>0</td>\n",
       "      <td>13</td>\n",
       "      <td>0</td>\n",
       "      <td>29245</td>\n",
       "      <td>55283.0</td>\n",
       "      <td>0</td>\n",
       "      <td>0</td>\n",
       "    </tr>\n",
       "    <tr>\n",
       "      <th>211418</th>\n",
       "      <td>Fully Paid</td>\n",
       "      <td>99999999</td>\n",
       "      <td>Short Term</td>\n",
       "      <td>746.000000</td>\n",
       "      <td>4</td>\n",
       "      <td>Mortgage</td>\n",
       "      <td>129876.000000</td>\n",
       "      <td>Business Loan</td>\n",
       "      <td>1742.51</td>\n",
       "      <td>23.5</td>\n",
       "      <td>0</td>\n",
       "      <td>13</td>\n",
       "      <td>0</td>\n",
       "      <td>39056</td>\n",
       "      <td>68160.0</td>\n",
       "      <td>0</td>\n",
       "      <td>0</td>\n",
       "    </tr>\n",
       "    <tr>\n",
       "      <th>212678</th>\n",
       "      <td>Fully Paid</td>\n",
       "      <td>13298</td>\n",
       "      <td>Short Term</td>\n",
       "      <td>1251.116099</td>\n",
       "      <td>10</td>\n",
       "      <td>Mortgage</td>\n",
       "      <td>72535.550103</td>\n",
       "      <td>Debt Consolidation</td>\n",
       "      <td>915.50</td>\n",
       "      <td>39.9</td>\n",
       "      <td>45</td>\n",
       "      <td>16</td>\n",
       "      <td>0</td>\n",
       "      <td>14159</td>\n",
       "      <td>77371.0</td>\n",
       "      <td>0</td>\n",
       "      <td>0</td>\n",
       "    </tr>\n",
       "    <tr>\n",
       "      <th>148143</th>\n",
       "      <td>Fully Paid</td>\n",
       "      <td>10056</td>\n",
       "      <td>Short Term</td>\n",
       "      <td>737.000000</td>\n",
       "      <td>8</td>\n",
       "      <td>Mortgage</td>\n",
       "      <td>150840.000000</td>\n",
       "      <td>Debt Consolidation</td>\n",
       "      <td>3695.58</td>\n",
       "      <td>17.9</td>\n",
       "      <td>66</td>\n",
       "      <td>11</td>\n",
       "      <td>0</td>\n",
       "      <td>28772</td>\n",
       "      <td>32584.0</td>\n",
       "      <td>0</td>\n",
       "      <td>0</td>\n",
       "    </tr>\n",
       "  </tbody>\n",
       "</table>\n",
       "</div>"
      ],
      "text/plain": [
       "        Loan Status  Current Loan Amount        Term  Credit Score  \\\n",
       "40178   Charged Off                 4763  Short Term    746.000000   \n",
       "128062   Fully Paid                15328  Short Term    741.000000   \n",
       "211418   Fully Paid             99999999  Short Term    746.000000   \n",
       "212678   Fully Paid                13298  Short Term   1251.116099   \n",
       "148143   Fully Paid                10056  Short Term    737.000000   \n",
       "\n",
       "        Years in current job Home Ownership  Annual Income  \\\n",
       "40178                      1       Mortgage   30081.000000   \n",
       "128062                     3       Mortgage   99530.000000   \n",
       "211418                     4       Mortgage  129876.000000   \n",
       "212678                    10       Mortgage   72535.550103   \n",
       "148143                     8       Mortgage  150840.000000   \n",
       "\n",
       "                   Purpose  Monthly Debt  Years of Credit History  \\\n",
       "40178            Buy House        313.34                     14.0   \n",
       "128062  Debt Consolidation       2355.55                     23.4   \n",
       "211418       Business Loan       1742.51                     23.5   \n",
       "212678  Debt Consolidation        915.50                     39.9   \n",
       "148143  Debt Consolidation       3695.58                     17.9   \n",
       "\n",
       "        Months since last delinquent  Number of Open Accounts  \\\n",
       "40178                              0                        8   \n",
       "128062                             0                       13   \n",
       "211418                             0                       13   \n",
       "212678                            45                       16   \n",
       "148143                            66                       11   \n",
       "\n",
       "        Number of Credit Problems  Current Credit Balance  \\\n",
       "40178                           0                    6086   \n",
       "128062                          0                   29245   \n",
       "211418                          0                   39056   \n",
       "212678                          0                   14159   \n",
       "148143                          0                   28772   \n",
       "\n",
       "        Maximum Open Credit  Bankruptcies  Tax Liens  \n",
       "40178               20087.0             0          0  \n",
       "128062              55283.0             0          0  \n",
       "211418              68160.0             0          0  \n",
       "212678              77371.0             0          0  \n",
       "148143              32584.0             0          0  "
      ]
     },
     "execution_count": 44,
     "metadata": {},
     "output_type": "execute_result"
    }
   ],
   "source": [
    "df.sample(5)"
   ]
  },
  {
   "cell_type": "code",
   "execution_count": 45,
   "metadata": {},
   "outputs": [],
   "source": [
    "x,y=df.drop('Loan Status',axis=1),df[['Loan Status']]"
   ]
  },
  {
   "cell_type": "code",
   "execution_count": 46,
   "metadata": {},
   "outputs": [],
   "source": [
    "x=pd.get_dummies(x,drop_first=True)"
   ]
  },
  {
   "cell_type": "code",
   "execution_count": 47,
   "metadata": {},
   "outputs": [],
   "source": [
    "y=pd.get_dummies(y,drop_first=True)"
   ]
  },
  {
   "cell_type": "code",
   "execution_count": 48,
   "metadata": {},
   "outputs": [
    {
     "name": "stdout",
     "output_type": "stream",
     "text": [
      "<class 'pandas.core.frame.DataFrame'>\n",
      "Int64Index: 239817 entries, 0 to 256983\n",
      "Data columns (total 24 columns):\n",
      " #   Column                        Non-Null Count   Dtype  \n",
      "---  ------                        --------------   -----  \n",
      " 0   Current Loan Amount           239817 non-null  int64  \n",
      " 1   Credit Score                  239817 non-null  float64\n",
      " 2   Years in current job          239817 non-null  int32  \n",
      " 3   Annual Income                 239817 non-null  float64\n",
      " 4   Monthly Debt                  239817 non-null  float64\n",
      " 5   Years of Credit History       239817 non-null  float64\n",
      " 6   Months since last delinquent  239817 non-null  int32  \n",
      " 7   Number of Open Accounts       239817 non-null  int64  \n",
      " 8   Number of Credit Problems     239817 non-null  int64  \n",
      " 9   Current Credit Balance        239817 non-null  int64  \n",
      " 10  Maximum Open Credit           239817 non-null  float64\n",
      " 11  Bankruptcies                  239817 non-null  int32  \n",
      " 12  Tax Liens                     239817 non-null  int32  \n",
      " 13  Term_Short Term               239817 non-null  uint8  \n",
      " 14  Home Ownership_Own Home       239817 non-null  uint8  \n",
      " 15  Home Ownership_Rent           239817 non-null  uint8  \n",
      " 16  Purpose_Buy House             239817 non-null  uint8  \n",
      " 17  Purpose_Buy a Car             239817 non-null  uint8  \n",
      " 18  Purpose_Debt Consolidation    239817 non-null  uint8  \n",
      " 19  Purpose_Educational Expenses  239817 non-null  uint8  \n",
      " 20  Purpose_Home Improvements     239817 non-null  uint8  \n",
      " 21  Purpose_Medical Bills         239817 non-null  uint8  \n",
      " 22  Purpose_Other                 239817 non-null  uint8  \n",
      " 23  Purpose_Take a Trip           239817 non-null  uint8  \n",
      "dtypes: float64(5), int32(4), int64(4), uint8(11)\n",
      "memory usage: 34.5 MB\n"
     ]
    }
   ],
   "source": [
    "x.info()"
   ]
  },
  {
   "cell_type": "code",
   "execution_count": 49,
   "metadata": {},
   "outputs": [
    {
     "data": {
      "text/plain": [
       "((239817, 1), (239817, 24))"
      ]
     },
     "execution_count": 49,
     "metadata": {},
     "output_type": "execute_result"
    }
   ],
   "source": [
    "y.shape,x.shape"
   ]
  },
  {
   "cell_type": "code",
   "execution_count": 50,
   "metadata": {},
   "outputs": [],
   "source": [
    "def classification_funct(x,y):\n",
    "    from sklearn.naive_bayes import GaussianNB\n",
    "    from sklearn.naive_bayes import BernoulliNB\n",
    "    from sklearn.svm import SVC\n",
    "    from sklearn.neighbors import KNeighborsClassifier\n",
    "    from sklearn.tree import DecisionTreeClassifier\n",
    "    from sklearn.ensemble import RandomForestClassifier\n",
    "    from sklearn.linear_model import LogisticRegression\n",
    "    from xgboost import XGBClassifier #yüklemek için !pip install xgboost kullandım\n",
    "    \n",
    "    from sklearn.metrics import accuracy_score,precision_score,recall_score,f1_score\n",
    "    from sklearn.metrics import confusion_matrix,classification_report\n",
    "    \n",
    "    x_train,x_test,y_train,y_test=train_test_split(x,y,test_size=0.2,random_state=60)\n",
    "    \n",
    "    print(x_train.shape,x_test.shape,y_train.shape,y_test.shape)\n",
    "    \n",
    "    g=GaussianNB()\n",
    "    b=BernoulliNB()\n",
    "    SVC=SVC()\n",
    "    KN=KNeighborsClassifier()\n",
    "    D=DecisionTreeClassifier()\n",
    "    R=RandomForestClassifier()\n",
    "    Log=LogisticRegression()\n",
    "    XGBC=XGBClassifier()\n",
    "    \n",
    "    algos=[g,b,SVC,KN,D,R,Log,XGBC]\n",
    "    algo_names=['GaussianNB','BernoulliNB','SVC','KNeighborsClassifier','DecisionTreeClassifier','RandomForestClassifier','LogisticRegression','XGBClassifier']\n",
    "    \n",
    "    accuracy_scored=[]\n",
    "    precision_scored=[]\n",
    "    recall_scored=[]\n",
    "    f1_scored=[]\n",
    "    \n",
    "    for item in algos:\n",
    "        item.fit(x_train,y_train)\n",
    "        accuracy_scored.append(accuracy_score(y_test,item.predict(x_test)))\n",
    "        precision_scored.append(precision_score(y_test,item.predict(x_test)))\n",
    "        recall_scored.append(recall_score(y_test,item.predict(x_test)))\n",
    "        f1_scored.append(f1_score(y_test,item.predict(x_test)))\n",
    "        \n",
    "    result=pd.DataFrame(columns=['f1_score','recall_score','precision_score','accuracy_score'],index=algo_names)\n",
    "    result.f1_score=f1_scored\n",
    "    result.recall_score=recall_scored\n",
    "    result.precision_score=precision_scored\n",
    "    result.accuracy_score=accuracy_scored\n",
    "    classification_funct.result=result.sort_values('f1_score',ascending=False)\n",
    "    return result.sort_values('f1_score',ascending=False)  \n",
    "    "
   ]
  },
  {
   "cell_type": "code",
   "execution_count": 51,
   "metadata": {},
   "outputs": [
    {
     "name": "stdout",
     "output_type": "stream",
     "text": [
      "(191853, 24) (47964, 24) (191853, 1) (47964, 1)\n",
      "[03:56:41] WARNING: C:/Users/Administrator/workspace/xgboost-win64_release_1.3.0/src/learner.cc:1061: Starting in XGBoost 1.3.0, the default evaluation metric used with the objective 'binary:logistic' was changed from 'error' to 'logloss'. Explicitly set eval_metric if you'd like to restore the old behavior.\n"
     ]
    },
    {
     "data": {
      "text/html": [
       "<div>\n",
       "<style scoped>\n",
       "    .dataframe tbody tr th:only-of-type {\n",
       "        vertical-align: middle;\n",
       "    }\n",
       "\n",
       "    .dataframe tbody tr th {\n",
       "        vertical-align: top;\n",
       "    }\n",
       "\n",
       "    .dataframe thead th {\n",
       "        text-align: right;\n",
       "    }\n",
       "</style>\n",
       "<table border=\"1\" class=\"dataframe\">\n",
       "  <thead>\n",
       "    <tr style=\"text-align: right;\">\n",
       "      <th></th>\n",
       "      <th>f1_score</th>\n",
       "      <th>recall_score</th>\n",
       "      <th>precision_score</th>\n",
       "      <th>accuracy_score</th>\n",
       "    </tr>\n",
       "  </thead>\n",
       "  <tbody>\n",
       "    <tr>\n",
       "      <th>RandomForestClassifier</th>\n",
       "      <td>0.892766</td>\n",
       "      <td>0.950857</td>\n",
       "      <td>0.841364</td>\n",
       "      <td>0.832249</td>\n",
       "    </tr>\n",
       "    <tr>\n",
       "      <th>XGBClassifier</th>\n",
       "      <td>0.846985</td>\n",
       "      <td>0.926925</td>\n",
       "      <td>0.779739</td>\n",
       "      <td>0.754045</td>\n",
       "    </tr>\n",
       "    <tr>\n",
       "      <th>SVC</th>\n",
       "      <td>0.846853</td>\n",
       "      <td>1.000000</td>\n",
       "      <td>0.734384</td>\n",
       "      <td>0.734384</td>\n",
       "    </tr>\n",
       "    <tr>\n",
       "      <th>LogisticRegression</th>\n",
       "      <td>0.846749</td>\n",
       "      <td>0.999744</td>\n",
       "      <td>0.734365</td>\n",
       "      <td>0.734238</td>\n",
       "    </tr>\n",
       "    <tr>\n",
       "      <th>BernoulliNB</th>\n",
       "      <td>0.846693</td>\n",
       "      <td>0.997360</td>\n",
       "      <td>0.735574</td>\n",
       "      <td>0.734759</td>\n",
       "    </tr>\n",
       "    <tr>\n",
       "      <th>DecisionTreeClassifier</th>\n",
       "      <td>0.819477</td>\n",
       "      <td>0.793607</td>\n",
       "      <td>0.847091</td>\n",
       "      <td>0.743224</td>\n",
       "    </tr>\n",
       "    <tr>\n",
       "      <th>KNeighborsClassifier</th>\n",
       "      <td>0.808881</td>\n",
       "      <td>0.846610</td>\n",
       "      <td>0.774370</td>\n",
       "      <td>0.706196</td>\n",
       "    </tr>\n",
       "    <tr>\n",
       "      <th>GaussianNB</th>\n",
       "      <td>0.342970</td>\n",
       "      <td>0.207132</td>\n",
       "      <td>0.996449</td>\n",
       "      <td>0.417188</td>\n",
       "    </tr>\n",
       "  </tbody>\n",
       "</table>\n",
       "</div>"
      ],
      "text/plain": [
       "                        f1_score  recall_score  precision_score  \\\n",
       "RandomForestClassifier  0.892766      0.950857         0.841364   \n",
       "XGBClassifier           0.846985      0.926925         0.779739   \n",
       "SVC                     0.846853      1.000000         0.734384   \n",
       "LogisticRegression      0.846749      0.999744         0.734365   \n",
       "BernoulliNB             0.846693      0.997360         0.735574   \n",
       "DecisionTreeClassifier  0.819477      0.793607         0.847091   \n",
       "KNeighborsClassifier    0.808881      0.846610         0.774370   \n",
       "GaussianNB              0.342970      0.207132         0.996449   \n",
       "\n",
       "                        accuracy_score  \n",
       "RandomForestClassifier        0.832249  \n",
       "XGBClassifier                 0.754045  \n",
       "SVC                           0.734384  \n",
       "LogisticRegression            0.734238  \n",
       "BernoulliNB                   0.734759  \n",
       "DecisionTreeClassifier        0.743224  \n",
       "KNeighborsClassifier          0.706196  \n",
       "GaussianNB                    0.417188  "
      ]
     },
     "execution_count": 51,
     "metadata": {},
     "output_type": "execute_result"
    }
   ],
   "source": [
    "classification_funct(x,y)"
   ]
  },
  {
   "cell_type": "code",
   "execution_count": 52,
   "metadata": {},
   "outputs": [
    {
     "data": {
      "text/plain": [
       "<AxesSubplot:>"
      ]
     },
     "execution_count": 52,
     "metadata": {},
     "output_type": "execute_result"
    },
    {
     "data": {
      "image/png": "[encoded data removed]",
      "text/plain": [
       "<Figure size 432x288 with 2 Axes>"
      ]
     },
     "metadata": {
      "needs_background": "light"
     },
     "output_type": "display_data"
    }
   ],
   "source": [
    "sns.heatmap(classification_funct.result,cmap='viridis',annot=True)"
   ]
  }
 ],
 "metadata": {
  "kernelspec": {
   "display_name": "Python 3",
   "language": "python",
   "name": "python3"
  },
  "language_info": {
   "codemirror_mode": {
    "name": "ipython",
    "version": 3
   },
   "file_extension": ".py",
   "mimetype": "text/x-python",
   "name": "python",
   "nbconvert_exporter": "python",
   "pygments_lexer": "ipython3",
   "version": "3.8.5"
  }
 },
 "nbformat": 4,
 "nbformat_minor": 4
}
